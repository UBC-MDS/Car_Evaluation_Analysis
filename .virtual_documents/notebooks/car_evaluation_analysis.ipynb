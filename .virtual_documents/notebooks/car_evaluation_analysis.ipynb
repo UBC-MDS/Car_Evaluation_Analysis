


# imports
import numpy as np
import pandas as pd

from sklearn.model_selection import train_test_split
from sklearn.compose import make_column_transformer
from sklearn.preprocessing import OrdinalEncoder
from sklearn.dummy import DummyClassifier
from sklearn.linear_model import LogisticRegression
from sklearn.model_selection import (
RandomizedSearchCV,
cross_validate,
train_test_split,
)
from sklearn.neighbors import KNeighborsClassifier
from sklearn.naive_bayes import  MultinomialNB
from sklearn.pipeline import make_pipeline
from sklearn.svm import SVC
from sklearn.tree import DecisionTreeClassifier
from sklearn.model_selection import RandomizedSearchCV
from sklearn.metrics import classification_report
from sklearn.metrics import ConfusionMatrixDisplay 
import matplotlib.pyplot as plt
import altair as alt














# import raw data
# data located at https://archive.ics.uci.edu/dataset/19/car+evaluation

colnames = ['buying','maint','doors','persons','lug_boot','safety','class']
car_data = pd.read_csv('../data/raw/car.data', names=colnames, header=None)

car_data.head()


car_data.info()





# train test split, export to csv
np.random.seed(522)

car_train, car_test = train_test_split(
    car_data, train_size=0.8, random_state=522, stratify=car_data['class']
)

car_train.to_csv('../data/processed/car_train.csv')
car_test.to_csv('../data/processed/car_test.csv')


alt.Chart(car_train).mark_bar().encode(
    x=alt.X(alt.repeat('row')),
    y='count()',
    color=alt.Color('class'),
    column='class'
).properties(
    height=100
).repeat(
    row=['buying','maint','doors','persons','lug_boot','safety']
)








# preprocessing

# transform categorical features
car_preprocessor = make_column_transformer(
    (OrdinalEncoder(categories=[['low','med','high','vhigh']]), ['buying']),
    (OrdinalEncoder(categories=[['low','med','high','vhigh']]), ['maint']),
    (OrdinalEncoder(categories=[['2','3','4','5more']]), ['doors']),
    (OrdinalEncoder(categories=[['2','4','more']]), ['persons']),
    (OrdinalEncoder(categories=[['small','med','big']]), ['lug_boot']),
    (OrdinalEncoder(categories=[['low','med','high']]), ['safety']),
    remainder='passthrough',
    verbose_feature_names_out=False
)

car_preprocessor.fit(car_train)
encoded_car_train = car_preprocessor.transform(car_train)
encoded_car_test = car_preprocessor.transform(car_test)

names = car_preprocessor.get_feature_names_out()
encoded_car_train = pd.DataFrame(encoded_car_train, columns=names)
encoded_car_test = pd.DataFrame(encoded_car_test, columns=names)

encoded_car_train.to_csv('../data/processed/encoded_car_train.csv')
encoded_car_test.to_csv('../data/processed/encoded_car_test.csv')


X_train, y_train = car_train.drop(columns=['class']), car_train['class']
X_test, y_test = car_test.drop(columns=['class']), car_test['class']





models = {
    "dummy": DummyClassifier(random_state=123),
    "Decision Tree": DecisionTreeClassifier(random_state=123, max_depth=5),
    "KNN": KNeighborsClassifier(),
    "SVM RBF": SVC(random_state=123),
    "Naive Bayes": MultinomialNB(),
    "Logistic Regression": LogisticRegression(max_iter=2000, random_state=123)
}





cv_results = []
for model_name, model in models.items():
    pipe = make_pipeline(car_preprocessor, model)
    scores = cross_validate(pipe, X_train, y_train, n_jobs=-1, return_train_score=True, cv=5)
    cv_results.append({
        "model": model_name,
        "mean_train_score": np.mean(scores['train_score']),
        "std_train_score": np.std(scores['train_score']),
        "mean_test_score": np.mean(scores['test_score']),
        "std_test_score": np.std(scores['test_score'])
    })

cv_results_df = pd.DataFrame(cv_results)
cv_results_df








param_grid = {
    "svc__gamma": 10.0 ** np.arange(-5, 5, 1),
    "svc__C": 10.0 ** np.arange(-5, 5, 1)
}

svc_pipe = make_pipeline(
    car_preprocessor, 
    SVC(random_state=123)
)

random_search = RandomizedSearchCV(
    svc_pipe, param_distributions=param_grid, n_iter=100, n_jobs= -1, return_train_score=True
)
 
random_search.fit(X_train, y_train)





results = pd.DataFrame(random_search.cv_results_)

pivot_table = results.pivot(index="param_svc__gamma", columns="param_svc__C", values="mean_test_score")
plt.figure(figsize=(7, 6))
plt.title("Mean Test Score for different Gamma and C values")
plt.xlabel('C ')
plt.ylabel('Gamma')
plt.imshow(pivot_table, cmap='viridis', interpolation='nearest', aspect='auto')
plt.colorbar(label='Mean Test Score')
plt.xticks(np.arange(len(pivot_table.columns)), pivot_table.columns)
plt.yticks(np.arange(len(pivot_table.index)), pivot_table.index)
plt.show()








best_model = random_search.best_estimator_
best_model


best_model.fit(X_train, y_train)
best_model.score(X_test, y_test)


















